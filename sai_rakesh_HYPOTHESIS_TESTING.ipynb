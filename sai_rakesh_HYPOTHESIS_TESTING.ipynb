{
  "nbformat": 4,
  "nbformat_minor": 0,
  "metadata": {
    "colab": {
      "provenance": []
    },
    "kernelspec": {
      "name": "python3",
      "display_name": "Python 3"
    },
    "language_info": {
      "name": "python"
    }
  },
  "cells": [
    {
      "cell_type": "markdown",
      "source": [
        "#HYPOTHESIS TESTING"
      ],
      "metadata": {
        "id": "MInR9k8ScZZH"
      }
    },
    {
      "cell_type": "code",
      "execution_count": null,
      "metadata": {
        "colab": {
          "base_uri": "https://localhost:8080/"
        },
        "id": "O2TTIu6ObkM6",
        "outputId": "fd94b0e2-e8bc-4724-8554-cfea322cf91c"
      },
      "outputs": [
        {
          "output_type": "stream",
          "name": "stdout",
          "text": [
            "Theoretical Mean Weekly Cost (W): 4000\n",
            "Test Statistic (t): -157.84\n",
            "Critical Value: 1.645\n",
            "Reject the null hypothesis (H0)\n",
            "Conclusion:\n",
            "There is strong evidence to support the restaurant owners' claim that the weekly operating costs are higher than the model suggests.\n"
          ]
        }
      ],
      "source": [
        "import math\n",
        "\n",
        "# Step 1: Define the hypotheses\n",
        "mu_theoretical = 4000  # theoretical mean weekly cost\n",
        "mu_sample = 4050 / 75  # sample mean weekly cost in USD\n",
        "\n",
        "# Calculate the theoretical mean weekly cost according to the cost model\n",
        "x_mean = 600  # mean number of units produced in a week\n",
        "cost_model = 1000 + 5 * x_mean\n",
        "print(\"Theoretical Mean Weekly Cost (W):\", cost_model)\n",
        "\n",
        "# Step 2: Calculate the test statistic\n",
        "sigma = 5 * 25  # standard deviation of the weekly cost\n",
        "n = 25  # sample size\n",
        "t = (mu_sample - mu_theoretical) / (sigma / math.sqrt(n))\n",
        "print(\"Test Statistic (t):\", t)\n",
        "\n",
        "# Step 3: Determine the critical value\n",
        "alpha = 0.05  # alpha level\n",
        "critical_value = 1.645  # critical value from standard normal (Z) distribution table\n",
        "print(\"Critical Value:\", critical_value)\n",
        "\n",
        "# Step 4: Make a decision\n",
        "if t < critical_value:\n",
        "    print(\"Reject the null hypothesis (H0)\")\n",
        "else:\n",
        "    print(\"Fail to reject the null hypothesis (H0)\")\n",
        "\n",
        "# Step 5: Conclusion\n",
        "print(\"Conclusion:\")\n",
        "print(\"There is strong evidence to support the restaurant owners' claim that the weekly operating costs are higher than the model suggests.\")"
      ]
    }
  ]
}