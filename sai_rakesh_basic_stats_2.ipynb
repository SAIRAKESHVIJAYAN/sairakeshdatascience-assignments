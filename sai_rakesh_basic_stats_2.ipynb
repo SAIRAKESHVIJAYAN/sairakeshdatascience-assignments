{
  "nbformat": 4,
  "nbformat_minor": 0,
  "metadata": {
    "colab": {
      "provenance": []
    },
    "kernelspec": {
      "name": "python3",
      "display_name": "Python 3"
    },
    "language_info": {
      "name": "python"
    }
  },
  "cells": [
    {
      "cell_type": "code",
      "execution_count": 1,
      "metadata": {
        "id": "NAeykiUmIGPV"
      },
      "outputs": [],
      "source": [
        "data = [1.13, 1.55, 1.43, 0.92, 1.25, 1.36, 1.32, 0.85, 1.07, 1.48, 1.20, 1.33, 1.18, 1.22, 1.29]\n"
      ]
    },
    {
      "cell_type": "code",
      "source": [
        "import numpy as np\n",
        "import scipy.stats as stats\n",
        "\n",
        "# Given data\n",
        "data = [1.13, 1.55, 1.43, 0.92, 1.25, 1.36, 1.32, 0.85, 1.07, 1.48, 1.20, 1.33, 1.18, 1.22, 129]\n",
        "n = len(data)\n",
        "mean = np.mean(data)\n",
        "std_dev = np.std(data, ddof=1)  # Sample standard deviation\n",
        "\n",
        "confidence_level = 0.99\n",
        "t_value = stats.t.ppf((1 + confidence_level) / 2, df=n - 1)\n",
        "\n",
        "margin_of_error = t_value * (std_dev / np.sqrt(n))\n",
        "\n",
        "confidence_interval = (mean - margin_of_error, mean + margin_of_error)\n",
        "\n",
        "mean, std_dev, t_value, margin_of_error, confidence_interval\n"
      ],
      "metadata": {
        "colab": {
          "base_uri": "https://localhost:8080/"
        },
        "id": "IgI3KtmpIH37",
        "outputId": "a17efbc2-587a-4730-8d80-5743c7851384"
      },
      "execution_count": 2,
      "outputs": [
        {
          "output_type": "execute_result",
          "data": {
            "text/plain": [
              "(1.2386666666666666,\n",
              " 0.19316412956959936,\n",
              " 2.976842734370834,\n",
              " 0.14846932822817596,\n",
              " (1.0901973384384906, 1.3871359948948425))"
            ]
          },
          "metadata": {},
          "execution_count": 2
        }
      ]
    },
    {
      "cell_type": "code",
      "source": [
        "z_value = stats.norm.ppf((1 + confidence_level) / 2)\n",
        "\n",
        "margin_of_error_population = z_value * (sigma / np.sqrt(n))\n",
        "\n",
        "confidence_interval_population = (mean - margin_of_error_population, mean + margin_of_error_population)\n",
        "\n",
        "mean, z_value, margin_of_error_population, confidence_interval_population\n"
      ],
      "metadata": {
        "colab": {
          "base_uri": "https://localhost:8080/"
        },
        "id": "lOEBp4dkITdz",
        "outputId": "c1880929-b716-47a4-83c5-23b0bdc92ef9"
      },
      "execution_count": 5,
      "outputs": [
        {
          "output_type": "execute_result",
          "data": {
            "text/plain": [
              "(1.2386666666666666,\n",
              " 2.5758293035489004,\n",
              " 0.13301525327090588,\n",
              " (1.1056514133957607, 1.3716819199375725))"
            ]
          },
          "metadata": {},
          "execution_count": 5
        }
      ]
    }
  ]
}